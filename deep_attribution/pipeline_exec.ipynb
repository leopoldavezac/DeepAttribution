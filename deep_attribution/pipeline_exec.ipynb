{
 "cells": [
  {
   "cell_type": "code",
   "execution_count": 3,
   "source": [
    "!pip install e ../."
   ],
   "outputs": [
    {
     "output_type": "stream",
     "name": "stdout",
     "text": [
      "Processing c:\\users\\dell\\documents\\deepattribution\n",
      "Requirement already satisfied: e in c:\\users\\dell\\anaconda3\\envs\\topdowndash\\lib\\site-packages (1.4.5)\n",
      "Building wheels for collected packages: deep-attribution\n",
      "  Building wheel for deep-attribution (setup.py): started\n",
      "  Building wheel for deep-attribution (setup.py): finished with status 'done'\n",
      "  Created wheel for deep-attribution: filename=deep_attribution-1.0-py3-none-any.whl size=15371 sha256=a5f4082c8fed0ef9f43fb8e42925fe0127b731f2f7355ed15a4f2be13528eec5\n",
      "  Stored in directory: C:\\Users\\DELL\\AppData\\Local\\Temp\\pip-ephem-wheel-cache-f8y_rmli\\wheels\\ab\\83\\d3\\1382d5fe6367635b6e39c61ecd5bb24e3b5853c399b55f924d\n",
      "Successfully built deep-attribution\n",
      "Installing collected packages: deep-attribution\n",
      "  Attempting uninstall: deep-attribution\n",
      "    Found existing installation: deep-attribution 1.0\n",
      "    Uninstalling deep-attribution-1.0:\n",
      "      Successfully uninstalled deep-attribution-1.0\n",
      "Successfully installed deep-attribution-1.0\n"
     ]
    }
   ],
   "metadata": {}
  },
  {
   "cell_type": "code",
   "execution_count": 2,
   "source": [
    "from yaml import load"
   ],
   "outputs": [],
   "metadata": {}
  },
  {
   "cell_type": "code",
   "execution_count": 6,
   "source": [
    "from feature_engineering.feature_engineering_exec import main as run_feature_engineering\r\n",
    "from preprocess.preprocessing_exec import main as preprocess\r\n",
    "from train.training_exec import main as train\r\n",
    "from predict.predict_attention import main as predict_attention\r\n",
    "from generate_attention_report.generate_attention_report_exec import main as generate_attention_report"
   ],
   "outputs": [],
   "metadata": {}
  },
  {
   "cell_type": "code",
   "execution_count": 8,
   "source": [
    "with open(\"../config.yaml\", \"r\") as f:\r\n",
    "    config = load(f)"
   ],
   "outputs": [
    {
     "output_type": "stream",
     "name": "stderr",
     "text": [
      "C:\\Users\\DELL\\anaconda3\\envs\\TopDownDash\\lib\\site-packages\\ipykernel_launcher.py:2: YAMLLoadWarning: calling yaml.load() without Loader=... is deprecated, as the default Loader is unsafe. Please read https://msg.pyyaml.org/load for full details.\n",
      "  \n"
     ]
    }
   ],
   "metadata": {}
  },
  {
   "cell_type": "code",
   "execution_count": 9,
   "source": [
    "run_feature_engineering(config)"
   ],
   "outputs": [
    {
     "output_type": "execute_result",
     "data": {
      "text/plain": [
       "{'bucket_nm': 'deep_attribution', 'journey_max_len': 10}"
      ]
     },
     "metadata": {},
     "execution_count": 9
    }
   ],
   "metadata": {}
  },
  {
   "cell_type": "code",
   "execution_count": null,
   "source": [
    "preprocess(config)"
   ],
   "outputs": [],
   "metadata": {}
  },
  {
   "cell_type": "code",
   "execution_count": null,
   "source": [
    "model = train(config)"
   ],
   "outputs": [],
   "metadata": {}
  },
  {
   "cell_type": "code",
   "execution_count": null,
   "source": [
    "predict_attention(model, config)"
   ],
   "outputs": [],
   "metadata": {}
  },
  {
   "cell_type": "code",
   "execution_count": null,
   "source": [
    "generate_attention_report(config)"
   ],
   "outputs": [],
   "metadata": {}
  }
 ],
 "metadata": {
  "orig_nbformat": 4,
  "language_info": {
   "name": "python",
   "version": "3.7.7",
   "mimetype": "text/x-python",
   "codemirror_mode": {
    "name": "ipython",
    "version": 3
   },
   "pygments_lexer": "ipython3",
   "nbconvert_exporter": "python",
   "file_extension": ".py"
  },
  "kernelspec": {
   "name": "python3",
   "display_name": "Python 3.7.7 64-bit ('TopDownDash': conda)"
  },
  "interpreter": {
   "hash": "c93720a5a6721b5d06f8f7393933edabe2a26690927f318425af3170d1da790e"
  }
 },
 "nbformat": 4,
 "nbformat_minor": 2
}