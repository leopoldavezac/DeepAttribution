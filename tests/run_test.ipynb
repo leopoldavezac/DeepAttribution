{
 "cells": [
  {
   "cell_type": "code",
   "execution_count": null,
   "source": [
    "!pytest feature_engineering/test_feature_engineering_exec.py"
   ],
   "outputs": [],
   "metadata": {}
  }
 ],
 "metadata": {
  "orig_nbformat": 4,
  "language_info": {
   "name": "python"
  }
 },
 "nbformat": 4,
 "nbformat_minor": 2
}