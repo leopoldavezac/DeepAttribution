{
 "cells": [
  {
   "cell_type": "code",
   "execution_count": null,
   "source": [
    "!pip install e ."
   ],
   "outputs": [],
   "metadata": {}
  },
  {
   "cell_type": "code",
   "execution_count": null,
   "source": [
    "from yaml import load"
   ],
   "outputs": [],
   "metadata": {}
  },
  {
   "cell_type": "code",
   "execution_count": null,
   "source": [
    "from deep_attribution.feature_engineering.feature_engineering_exec import main as run_feature_engineering\r\n",
    "from deep_attribution.preprocess.preprocessing_exec import main as preprocess\r\n",
    "from deep_attribution.train.training_exec import main as train\r\n",
    "from deep_attribution.predict.predict_attention import main as predict_attention\r\n",
    "from deep_attribution.generate_attention_report.generate_attention_report_exec import main as generate_attention_report"
   ],
   "outputs": [],
   "metadata": {}
  },
  {
   "cell_type": "code",
   "execution_count": null,
   "source": [
    "with open(\"config/config.yaml\", \"r\") as f:\r\n",
    "    config = load(f)"
   ],
   "outputs": [],
   "metadata": {}
  },
  {
   "cell_type": "code",
   "execution_count": null,
   "source": [
    "run_feature_engineering(config)"
   ],
   "outputs": [],
   "metadata": {}
  },
  {
   "cell_type": "code",
   "execution_count": null,
   "source": [
    "preprocess(config)"
   ],
   "outputs": [],
   "metadata": {}
  },
  {
   "cell_type": "code",
   "execution_count": null,
   "source": [
    "model = train(config)"
   ],
   "outputs": [],
   "metadata": {}
  },
  {
   "cell_type": "code",
   "execution_count": null,
   "source": [
    "predict_attention(model, config)"
   ],
   "outputs": [],
   "metadata": {}
  },
  {
   "cell_type": "code",
   "execution_count": null,
   "source": [
    "generate_attention_report(config)"
   ],
   "outputs": [],
   "metadata": {}
  }
 ],
 "metadata": {
  "orig_nbformat": 4,
  "language_info": {
   "name": "python",
   "version": "3.7.7",
   "mimetype": "text/x-python",
   "codemirror_mode": {
    "name": "ipython",
    "version": 3
   },
   "pygments_lexer": "ipython3",
   "nbconvert_exporter": "python",
   "file_extension": ".py"
  },
  "kernelspec": {
   "name": "python3",
   "display_name": "Python 3.7.7 64-bit ('TopDownDash': conda)"
  },
  "interpreter": {
   "hash": "c93720a5a6721b5d06f8f7393933edabe2a26690927f318425af3170d1da790e"
  }
 },
 "nbformat": 4,
 "nbformat_minor": 2
}